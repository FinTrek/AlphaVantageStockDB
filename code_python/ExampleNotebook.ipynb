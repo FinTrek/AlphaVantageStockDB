{
 "cells": [
  {
   "cell_type": "code",
   "execution_count": null,
   "metadata": {},
   "outputs": [],
   "source": [
    "import pandas as pd, numpy as np, matplotlib.pyplot as plt\n",
    "import updater as db\n",
    "%matplotlib inline\n",
    "\n",
    "from plotly.subplots import make_subplots\n",
    "import plotly.graph_objects as go\n",
    "import plotly.io as pio\n",
    "\n",
    "pio.renderers.default = \"jupyterlab\""
   ]
  },
  {
   "cell_type": "code",
   "execution_count": null,
   "metadata": {},
   "outputs": [],
   "source": [
    "database_name = \"PRICES_DAILY\"\n",
    "db_info, data_source_info = db.parse_creds(db.cred_file, database_name=database_name) # did you create cred_file.yaml?\n",
    "sql_conn, sql_cursor = db.mysql_connect(\n",
    "    host=db_info['host'],\n",
    "    user=db_info['user'],\n",
    "    password=db_info['password'],\n",
    "    database=database_name)"
   ]
  },
  {
   "cell_type": "code",
   "execution_count": null,
   "metadata": {},
   "outputs": [],
   "source": [
    "# what ETF symbols do we have in the database?\n",
    "print(db.get_etf_tickers().keys())"
   ]
  },
  {
   "cell_type": "code",
   "execution_count": null,
   "metadata": {},
   "outputs": [],
   "source": [
    "# show trailing highest high/lowest low with matplitlib for SPY\n",
    "symbol = 'SPY'\n",
    "hhll_length = 252\n",
    "data = pd.read_sql('CALL GetSecurityData(\"{}\")'.format(symbol), con=sql_conn).set_index(\"SampleTime\")\n",
    "ax = data.AdjustedClosePrice.plot(\n",
    "    title=\"Daily Adjusted Price for {}\\nWith {}d Highest High/Lowest Low Bands\".format(symbol, hhll_length))\n",
    "data.AdjustedClosePrice.rolling(hhll_length).max().plot(ax=ax)\n",
    "data.AdjustedClosePrice.rolling(hhll_length).min().plot(ax=ax)\n",
    "_ = plt.legend([\"AdjClose\", \"HighestHigh\", \"LowestLow\"])"
   ]
  },
  {
   "cell_type": "code",
   "execution_count": null,
   "metadata": {},
   "outputs": [],
   "source": [
    "# show trailing highest high/lowest low with Plotly\n",
    "\n",
    "plot_data = go.Scatter(x=data.index, y=data.AdjustedClosePrice, name=\"AdjClose\")\n",
    "plot_data_hh = go.Scatter(x=data.index, y=data.AdjustedClosePrice.rolling(hhll_length).max(), name=\"HighestHigh\")\n",
    "plot_data_ll = go.Scatter(x=data.index, y=data.AdjustedClosePrice.rolling(hhll_length).min(), name=\"LowestLow\")\n",
    "\n",
    "fig = make_subplots(rows=1, cols=1)\n",
    "fig.add_trace(plot_data, row=1, col=1)\n",
    "fig.add_trace(plot_data_hh, row=1, col=1)\n",
    "fig.add_trace(plot_data_ll, row=1, col=1)\n",
    "\n",
    "fig.update_layout(title=go.layout.Title(\n",
    "    text=\"Daily Adjusted Price for {} with {}d Highest High/Lowest Low Bands\".format(symbol, hhll_length), \n",
    "    xref=\"paper\", x=0))\n",
    "    \n",
    "fig.show()"
   ]
  }
 ],
 "metadata": {
  "kernelspec": {
   "display_name": "Python 3",
   "language": "python",
   "name": "python3"
  },
  "language_info": {
   "codemirror_mode": {
    "name": "ipython",
    "version": 3
   },
   "file_extension": ".py",
   "mimetype": "text/x-python",
   "name": "python",
   "nbconvert_exporter": "python",
   "pygments_lexer": "ipython3",
   "version": "3.7.3"
  }
 },
 "nbformat": 4,
 "nbformat_minor": 4
}
